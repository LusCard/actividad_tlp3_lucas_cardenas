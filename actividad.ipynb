{
 "cells": [
  {
   "cell_type": "markdown",
   "id": "498731c6",
   "metadata": {},
   "source": [
    "# Actividad - Trabajando con Series de Pandas.\n",
    "## Criterios de evaluación.\n",
    "\n",
    "* Se deben utilizar nombres de variables descriptivos y claros (Utilizar la nomeclatura correspondiente para los nombres de variables).\n",
    "* Comentarios claros y concisos que expliquen el propósito de cada sección del código.\n",
    "* Utilizar mensajes de commit **descriptivos**. (Puedes utilizar la extension CONVENTIONAL COMMIT de VS-CODE). \n",
    "* Entrega en tiempo y forma.\n",
    "* Todo el código desarrollado debe ser subido a un repositorio en GitHub (el nombre del repositorio de seguir la siguiente estructura: actividad_tlp3_nombre_apellido).\n",
    "* Para resolver las actividades se debe insertar casillas de codigo entre cada actividad del cuaderno de Jupyter\n",
    "\n",
    "### ¡Importante!\n",
    "**El incumplimiento de los criterios de evaluación restará puntos en la nota final del práctico!**"
   ]
  },
  {
   "cell_type": "markdown",
   "id": "b361a7b6",
   "metadata": {},
   "source": [
    "### **Actividad 1:** \n",
    "\n",
    "Crear Series desde diferentes estructuras.\n",
    "* Crea una Series con los números del 1 al 5\n",
    "* Crea una Series a partir de un diccionario con nombres de países como claves y sus capitales como valores."
   ]
  },
  {
   "cell_type": "code",
   "execution_count": 13,
   "id": "4d0e4bac",
   "metadata": {},
   "outputs": [],
   "source": [
    "import pandas as pd\n",
    "import random "
   ]
  },
  {
   "cell_type": "code",
   "execution_count": 8,
   "id": "26009294",
   "metadata": {},
   "outputs": [],
   "source": [
    "\n",
    "# todo:\n",
    "numbers = pd.Series([1, 2, 3, 4, 5])\n",
    "\n",
    "countries_capitals = pd.Series([{\"Argentina\": \"Buenos Aires\", \"Brazil\": \"Brasilia\", \"Chile\": \"Santiago\"}])"
   ]
  },
  {
   "cell_type": "markdown",
   "id": "0c239195",
   "metadata": {},
   "source": [
    "### **Actividad 2:** \n",
    "Acceso y selección de elementos.\n",
    "* Usa una Series con tareas (que haceres cotidianos) de una semana\n",
    "* Accede a diferentes elementos a elección.\n",
    "* Cambia los valores de los dias pares.\n"
   ]
  },
  {
   "cell_type": "code",
   "execution_count": 9,
   "id": "3611d25a",
   "metadata": {},
   "outputs": [
    {
     "name": "stdout",
     "output_type": "stream",
     "text": [
      "0               {'Monday': 'Laundry'}\n",
      "1               {'Tuesday': 'Dishes'}\n",
      "2          {'Wednesday': 'Vacuuming'}\n",
      "3    {'Thursday': 'Grocery shopping'}\n",
      "4              {'Friday': 'Cleaning'}\n",
      "5             {'Saturday': 'Cooking'}\n",
      "6                  {'Sunday': 'Rest'}\n",
      "dtype: object\n",
      "0                 {'Monday': 'Study'}\n",
      "1               {'Tuesday': 'Dishes'}\n",
      "2              {'Wednesday': 'Study'}\n",
      "3    {'Thursday': 'Grocery shopping'}\n",
      "4                 {'Friday': 'Study'}\n",
      "5             {'Saturday': 'Cooking'}\n",
      "6                 {'Sunday': 'Study'}\n",
      "dtype: object\n"
     ]
    }
   ],
   "source": [
    "\n",
    "# todo:\n",
    "chores_in_a_week = pd.Series([{\"Monday\": \"Laundry\"}, {\"Tuesday\": \"Dishes\"}, {\"Wednesday\": \"Vacuuming\"}, {\"Thursday\": \"Grocery shopping\"}, {\"Friday\": \"Cleaning\"}, {\"Saturday\": \"Cooking\"}, {\"Sunday\": \"Rest\"}])\n",
    "print(chores_in_a_week)\n",
    "\n",
    "for i in range(0, len(chores_in_a_week), 2):\n",
    "    day_dictionary = chores_in_a_week[i]\n",
    "    day_name = list(day_dictionary.keys())[0]\n",
    "    chores_in_a_week[i] = {day_name:\"Study\"}\n",
    "print(chores_in_a_week)\n"
   ]
  },
  {
   "cell_type": "markdown",
   "id": "95841245",
   "metadata": {},
   "source": [
    "Decidí hacerlo con un bucle \"for\" que haga pasos de 2 en 2 porque parecía más divertido, hice un array de un diccionario a parte para los dias de la semana para después separar los valores de la primer serie para cambiar los pares."
   ]
  },
  {
   "cell_type": "markdown",
   "id": "70a24b97",
   "metadata": {},
   "source": [
    "### **Actividad 3:**\n",
    "Operaciones aritméticas. \n",
    "* Realiza las operaciones basicas con 2 series cuales quieran.\n",
    "* Eleva los valores de la primer serie a 3 potencias difetentes."
   ]
  },
  {
   "cell_type": "code",
   "execution_count": 11,
   "id": "a9c8ebc7",
   "metadata": {},
   "outputs": [
    {
     "name": "stdout",
     "output_type": "stream",
     "text": [
      "Addition 0    11\n",
      "1    12\n",
      "2    13\n",
      "3    14\n",
      "4    15\n",
      "dtype: int64\n",
      "Substraction 0   -9\n",
      "1   -8\n",
      "2   -7\n",
      "3   -6\n",
      "4   -5\n",
      "dtype: int64\n",
      "Multiplication 0    10\n",
      "1    20\n",
      "2    30\n",
      "3    40\n",
      "4    50\n",
      "dtype: int64\n",
      "Division 0    0.1\n",
      "1    0.2\n",
      "2    0.3\n",
      "3    0.4\n",
      "4    0.5\n",
      "dtype: float64\n",
      "Power 2 0     1\n",
      "1     4\n",
      "2     9\n",
      "3    16\n",
      "4    25\n",
      "dtype: int64\n",
      "Power 3 0      1\n",
      "1      8\n",
      "2     27\n",
      "3     64\n",
      "4    125\n",
      "dtype: int64\n"
     ]
    }
   ],
   "source": [
    "\n",
    "# todo:\n",
    "addition = numbers + 10\n",
    "print(\"Addition\",addition)\n",
    "subtraction = numbers - 10\n",
    "print(\"Substraction\",subtraction)\n",
    "multiplication = numbers * 10\n",
    "print(\"Multiplication\", multiplication)\n",
    "division = numbers / 10\n",
    "print(\"Division\",division)\n",
    "power_2 = numbers ** 2\n",
    "print(\"Power 2\",power_2)\n",
    "power_3 = numbers ** 3\n",
    "print(\"Power 3\",power_3)"
   ]
  },
  {
   "cell_type": "markdown",
   "id": "05bb6b40",
   "metadata": {},
   "source": [
    "No sé que comentar sólo son las operaciones básicas hechas en series compuestas enteramente de números."
   ]
  },
  {
   "cell_type": "markdown",
   "id": "b8dac397",
   "metadata": {},
   "source": [
    "### **Actividad 4:** \n",
    "Filtrado con condiciones.\n",
    "* Crea una Series de edades de 10 personas.\n",
    "* Muestra solo a los mayores de 18.\n",
    "* Reemplaza a los menores por \"Menor de edad\"."
   ]
  },
  {
   "cell_type": "code",
   "execution_count": 60,
   "id": "d04fd492",
   "metadata": {},
   "outputs": [
    {
     "name": "stdout",
     "output_type": "stream",
     "text": [
      "Original Series:\n",
      "Lucas       15\n",
      "Ana         56\n",
      "Pedro       93\n",
      "Maria       87\n",
      "João        67\n",
      "Carla       47\n",
      "Rafael      58\n",
      "Fernanda    50\n",
      "Gustavo     89\n",
      "Juliana     79\n",
      "dtype: object\n",
      "\n",
      "People aged 18 or older:\n",
      "Ana         56\n",
      "Pedro       93\n",
      "Maria       87\n",
      "João        67\n",
      "Carla       47\n",
      "Rafael      58\n",
      "Fernanda    50\n",
      "Gustavo     89\n",
      "Juliana     79\n",
      "dtype: object\n",
      "\n",
      "Series after replacement:\n",
      "Lucas       Menor de edad\n",
      "Ana                    56\n",
      "Pedro                  93\n",
      "Maria                  87\n",
      "João                   67\n",
      "Carla                  47\n",
      "Rafael                 58\n",
      "Fernanda               50\n",
      "Gustavo                89\n",
      "Juliana                79\n",
      "dtype: object\n"
     ]
    }
   ],
   "source": [
    "\n",
    "# todo:\n",
    "ages = [random.randint(1, 100) for i in range(10)]\n",
    "\n",
    "index= [\"Lucas\", \"Ana\", \"Pedro\", \"Maria\", \"João\", \"Carla\", \"Rafael\", \"Fernanda\", \"Gustavo\", \"Juliana\"]\n",
    "peoples_ages = pd.Series(ages, index=index, dtype=object)\n",
    "\n",
    "print(\"Original Series:\")\n",
    "print(peoples_ages)\n",
    "\n",
    "print(\"\\nPeople aged 18 or older:\")\n",
    "print(peoples_ages[peoples_ages >= 18])\n",
    "\n",
    "peoples_ages[peoples_ages < 18] = \"Menor de edad\"\n",
    "\n",
    "print(\"\\nSeries after replacement:\")\n",
    "print(peoples_ages)"
   ]
  },
  {
   "cell_type": "markdown",
   "id": "bdec6bb0",
   "metadata": {},
   "source": [
    "Tuve problemas para mostrar ambos los menores y mayores de edad así que decidí mostrar directamente las operaciones en print()"
   ]
  },
  {
   "cell_type": "markdown",
   "id": "8889d0f2",
   "metadata": {},
   "source": [
    "### Actividad 5:\n",
    "Estadísticas básicas.\n",
    "\n",
    "* Crea una Series con las notas de 10 estudiantes.\n",
    "* Calcula la media, mediana, desviación estándar y máximo.\n",
    "* Muestra cuántos estudiantes aprobaron si el mínimo para aprobar es 6.\n",
    "* Ordenar las notas de manera ascendente y descendente. "
   ]
  },
  {
   "cell_type": "code",
   "execution_count": 62,
   "id": "bc0ec844",
   "metadata": {},
   "outputs": [
    {
     "name": "stdout",
     "output_type": "stream",
     "text": [
      "\n",
      "--- Estadísticas ---\n",
      "Media: 4.40\n",
      "Mediana: 4.0\n",
      "Desviación estándar: 3.06\n",
      "Máxima nota: 10\n",
      "Mínima nota: 1\n"
     ]
    }
   ],
   "source": [
    "\n",
    "# todo:\n",
    "notas = [random.randint(1, 10) for _ in range(10)]\n",
    "estudiantes = [\"Estudiante_\" + str(i) for i in range(1, 11)]\n",
    "notas_series = pd.Series(notas, index=estudiantes, name=\"Notas\")\n",
    "\n",
    "print(\"\\n--- Estadísticas ---\")\n",
    "print(f\"Media: {notas_series.mean():.2f}\")\n",
    "print(f\"Mediana: {notas_series.median()}\")\n",
    "print(f\"Desviación estándar: {notas_series.std():.2f}\")\n",
    "print(f\"Máxima nota: {notas_series.max()}\")\n",
    "print(f\"Mínima nota: {notas_series.min()}\")"
   ]
  }
 ],
 "metadata": {
  "kernelspec": {
   "display_name": "env",
   "language": "python",
   "name": "python3"
  },
  "language_info": {
   "codemirror_mode": {
    "name": "ipython",
    "version": 3
   },
   "file_extension": ".py",
   "mimetype": "text/x-python",
   "name": "python",
   "nbconvert_exporter": "python",
   "pygments_lexer": "ipython3",
   "version": "3.13.2"
  }
 },
 "nbformat": 4,
 "nbformat_minor": 5
}
